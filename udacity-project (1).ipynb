{
  "cells": [
    {
      "cell_type": "code",
      "source": [
        "from azureml.core import Workspace, Experiment\n",
        "\n",
        "Workspace.\n",
        "ws = Workspace.from_config()\n",
        "#ws = Workspace.get(name=\"quick-starts-ws-234286\")\n",
        "exp = Experiment(workspace=ws, name=\"udacity-project\")\n",
        "\n",
        "print('Workspace name: ' + ws.name, \n",
        "      'Azure region: ' + ws.location, \n",
        "      'Subscription id: ' + ws.subscription_id, \n",
        "      'Resource group: ' + ws.resource_group, sep = '\\n')\n",
        "\n",
        "run = exp.start_logging()"
      ],
      "outputs": [
        {
          "output_type": "display_data",
          "data": {
            "application/vnd.livy.statement-meta+json": {
              "spark_pool": "a9aa6499-d59e-40b5-b38a-66c3580a12fa",
              "session_id": "1",
              "statement_id": 14,
              "state": "finished",
              "livy_statement_state": "available",
              "queued_time": "2023-05-24T14:33:34.4970698Z",
              "session_start_time": null,
              "execution_start_time": "2023-05-24T14:33:34.6034373Z",
              "execution_finish_time": "2023-05-24T14:33:34.9827343Z",
              "spark_jobs": {
                "numbers": {
                  "FAILED": 0,
                  "SUCCEEDED": 0,
                  "RUNNING": 0,
                  "UNKNOWN": 0
                },
                "jobs": [],
                "limit": 20,
                "rule": "ALL_DESC"
              },
              "parent_msg_id": "116993f0-2c1b-4e5f-860d-ffd315fac0c1"
            },
            "text/plain": "StatementMeta(a9aa6499-d59e-40b5-b38a-66c3580a12fa, 1, 14, Finished, Available)"
          },
          "metadata": {}
        },
        {
          "output_type": "error",
          "ename": "SyntaxError",
          "evalue": "invalid syntax (723965264.py, line 3)",
          "traceback": [
            "\u001b[0;36m  File \u001b[0;32m\"/tmp/ipykernel_6472/723965264.py\"\u001b[0;36m, line \u001b[0;32m3\u001b[0m\n\u001b[0;31m    Workspace.\u001b[0m\n\u001b[0m              ^\u001b[0m\n\u001b[0;31mSyntaxError\u001b[0m\u001b[0;31m:\u001b[0m invalid syntax\n"
          ]
        }
      ],
      "execution_count": 2,
      "metadata": {
        "gather": {
          "logged": 1684938815180
        }
      }
    },
    {
      "cell_type": "code",
      "source": [
        "from azureml.core.compute import ComputeTarget, AmlCompute\n",
        "\n",
        "cluster_name = \"project1_cluster\"\n",
        "\n",
        "# TODO: Create compute cluster\n",
        "# Use vm_size = \"Standard_D2_V2\" in your provisioning configuration.\n",
        "# max_nodes should be no greater than 4.\n",
        "from azure.ai.ml.entities import AmlCompute\n",
        "\n",
        "cluster_basic = AmlCompute(\n",
        "    name=\"basic-example\",\n",
        "    type=\"amlcompute\",\n",
        "    size=\"STANDARD_DS2_v2\",\n",
        "    location=\"westus\",\n",
        "    min_instances=0,\n",
        "    max_instances=4,\n",
        "    idle_time_before_scale_down=120,\n",
        ")\n",
        "ml_client.begin_create_or_update(cluster_basic).result()\n",
        "### YOUR CODE HERE ###"
      ],
      "outputs": [
        {
          "output_type": "display_data",
          "data": {
            "application/vnd.livy.statement-meta+json": {
              "spark_pool": null,
              "session_id": null,
              "statement_id": null,
              "state": "cancelled",
              "livy_statement_state": null,
              "queued_time": "2023-05-24T14:27:35.6366731Z",
              "session_start_time": null,
              "execution_start_time": null,
              "execution_finish_time": "2023-05-24T14:28:19.5854228Z",
              "spark_jobs": null,
              "parent_msg_id": "e195605f-2264-491f-b6af-be9bf539d971"
            },
            "text/plain": "StatementMeta(, , , Cancelled, )"
          },
          "metadata": {}
        }
      ],
      "execution_count": null,
      "metadata": {
        "gather": {
          "logged": 1684938500041
        },
        "jupyter": {
          "outputs_hidden": false,
          "source_hidden": false
        },
        "nteract": {
          "transient": {
            "deleting": false
          }
        }
      }
    },
    {
      "cell_type": "code",
      "source": [
        "from azureml.widgets import RunDetails\n",
        "from azureml.train.sklearn import SKLearn\n",
        "from azureml.train.hyperdrive.run import PrimaryMetricGoal\n",
        "from azureml.train.hyperdrive.policy import BanditPolicy\n",
        "from azureml.train.hyperdrive.sampling import RandomParameterSampling\n",
        "from azureml.train.hyperdrive.runconfig import HyperDriveConfig\n",
        "from azureml.train.hyperdrive.parameter_expressions import choice, uniform\n",
        "from azureml.core import Environment, ScriptRunConfig\n",
        "import os\n",
        "\n",
        "# Specify parameter sampler\n",
        "ps = RandomParameterSampling({'--C':(0.1,1.0) , '--max_iter':choice(50,100,200)})\n",
        "\n",
        "# Specify a Policy\n",
        "policy = BanditPolicy(evaluation_interval=1, slack_factor=0.15,delay_evaluation=5)### YOUR CODE HERE ###\n",
        "\n",
        "if \"training\" not in os.listdir():\n",
        "    os.mkdir(\"./training\")\n",
        "\n",
        "# Setup environment for your training run\n",
        "sklearn_env = Environment.from_conda_specification(name='sklearn-env', file_path='conda_dependencies.yml')\n",
        "\n",
        "# Create a ScriptRunConfig Object to specify the configuration details of your training job\n",
        "src = ScriptRunConfig(\"./\", \"train.py\")### YOUR CODE HERE ###\n",
        "\n",
        "# Create a HyperDriveConfig using the src object, hyperparameter sampler, and policy.\n",
        "hyperdrive_config = HyperDriveConfig(hyperparameter_sampling = ps,\n",
        "                                    primary_metric_name = 'Accuracy',\n",
        "                                    primary_metric_goal= PrimaryMetricGoal.MAXIMIZE,\n",
        "                                    max_total_runs=4,\n",
        "                                    policy=policy,\n",
        "                                    run_config=src,\n",
        "                                    )"
      ],
      "outputs": [],
      "execution_count": null,
      "metadata": {
        "gather": {
          "logged": 1598275789986
        },
        "jupyter": {
          "outputs_hidden": false,
          "source_hidden": false
        },
        "nteract": {
          "transient": {
            "deleting": false
          }
        }
      }
    },
    {
      "cell_type": "code",
      "source": [
        "# Submit your hyperdrive run to the experiment and show run details with the widget.\n",
        "hyperdrive_run = exp.submit(config=hyperdrive_config)\n",
        "\n",
        "RunDetails(hyperdrive_run).show()\n",
        "\n",
        "#hyperdrive_run.get_status()\n",
        "\n",
        "hyperdrive_run.wait_for_completion(show_output=True)\n",
        "### YOUR CODE HERE ###"
      ],
      "outputs": [],
      "execution_count": null,
      "metadata": {}
    },
    {
      "cell_type": "code",
      "source": [
        "import joblib\n",
        "# Get your best run and save the model from that run.\n",
        "hyperdrive_best_run = hyperdrive_run.get_best_run_by_primary_metric()\n",
        "\n",
        "### YOUR CODE HERE ###\n",
        "\n",
        "\n",
        "print(\"best run details :\", hyperdrive_best_run.get_details())\n",
        "print('\\n')\n",
        "print(\"best run file names :\", hyperdrive_best_run.get_file_names())\n",
        "print('\\n')\n",
        "print(\"best run metrics :\", hyperdrive_best_run.get_metrics())\n",
        "\n",
        "model = hyperdrive_best_run.register_model(model_name='hyperdrive_log_reg_best_run', \n",
        "model_path='outputs/model.joblib', tags={\"Method\" : \"HyperDrive\"},\n",
        "properties={\"Accuracy\" : hyperdrive_best_run.get_metrics()[\"Accuracy\"]})"
      ],
      "outputs": [],
      "execution_count": null,
      "metadata": {
        "gather": {
          "logged": 1598276310862
        },
        "jupyter": {
          "outputs_hidden": false,
          "source_hidden": false
        },
        "nteract": {
          "transient": {
            "deleting": false
          }
        }
      }
    },
    {
      "cell_type": "code",
      "source": [
        "from azureml.data.dataset_factory import TabularDatasetFactory\n",
        "\n",
        "# Create TabularDataset using TabularDatasetFactory\n",
        "# Data is available at: \n",
        "# \"https://automlsamplenotebookdata.blob.core.windows.net/automl-sample-notebook-data/bankmarketing_train.csv\"\n",
        "\n",
        "### YOUR CODE HERE ###\n",
        "url = \"https://automlsamplenotebookdata.blob.core.windows.net/automl-sample-notebook-data/bankmarketing_train.csv\"\n",
        "\n",
        "tbds = TabularDatasetFactory(url)"
      ],
      "outputs": [],
      "execution_count": null,
      "metadata": {}
    },
    {
      "cell_type": "code",
      "source": [
        "from train import clean_data\n",
        "\n",
        "# Use the clean_data function to clean your data.\n",
        "x, y = clean_data(tbds)"
      ],
      "outputs": [],
      "execution_count": null,
      "metadata": {
        "gather": {
          "logged": 1598275726969
        },
        "jupyter": {
          "outputs_hidden": false,
          "source_hidden": false
        },
        "nteract": {
          "transient": {
            "deleting": false
          }
        }
      }
    },
    {
      "cell_type": "code",
      "source": [
        "from azureml.train.automl import AutoMLConfig\n",
        "\n",
        "# Set parameters for AutoMLConfig\n",
        "# NOTE: DO NOT CHANGE THE experiment_timeout_minutes PARAMETER OR YOUR INSTANCE WILL TIME OUT.\n",
        "# If you wish to run the experiment longer, you will need to run this notebook in your own\n",
        "# Azure tenant, which will incur personal costs.\n",
        "automl_config = AutoMLConfig(\n",
        "    experiment_timeout_minutes=30,\n",
        "    task=,\n",
        "    primary_metric=,\n",
        "    training_data=,\n",
        "    label_column_name=,\n",
        "    n_cross_validations=)"
      ],
      "outputs": [],
      "execution_count": null,
      "metadata": {
        "gather": {
          "logged": 1598275665403
        },
        "jupyter": {
          "outputs_hidden": false,
          "source_hidden": false
        },
        "nteract": {
          "transient": {
            "deleting": false
          }
        }
      }
    },
    {
      "cell_type": "code",
      "source": [
        "# Submit your automl run\n",
        "automl_run = exp.submit(config=automl_config, show_output=True)\n",
        "\n",
        "### YOUR CODE HERE ###"
      ],
      "outputs": [],
      "execution_count": 2,
      "metadata": {
        "jupyter": {
          "outputs_hidden": false,
          "source_hidden": false
        },
        "nteract": {
          "transient": {
            "deleting": false
          }
        }
      }
    },
    {
      "cell_type": "code",
      "source": [
        "# Retrieve and save your best automl model.\n",
        "\n",
        "### YOUR CODE HERE ###\n",
        "remote_run.get_metrics()\n",
        "\n",
        "from azureml.automl.runtime.onnx_convert import OnnxConverter\n",
        "\n",
        "automl_best_run_onnx, automl_fitted_model_onnx = remote_run.get_output(return_onnx_model=True)\n",
        "\n",
        "OnnxConverter.save_onnx_model(automl_fitted_model_onnx, './/best_model.onnx' )\n"
      ],
      "outputs": [],
      "execution_count": null,
      "metadata": {}
    }
  ],
  "metadata": {
    "kernel_info": {
      "name": "synapse_pyspark"
    },
    "kernelspec": {
      "name": "synapse_pyspark",
      "language": "Python",
      "display_name": "Synapse PySpark"
    },
    "language_info": {
      "name": "python",
      "version": "3.8.0",
      "mimetype": "text/x-python",
      "file_extension": ".py",
      "pygments_lexer": "ipython",
      "codemirror_mode": "ipython",
      "nbconvert_exporter": "python"
    },
    "nteract": {
      "version": "nteract-front-end@1.0.0"
    },
    "microsoft": {
      "ms_spell_check": {
        "ms_spell_check_language": "en"
      }
    }
  },
  "nbformat": 4,
  "nbformat_minor": 2
}